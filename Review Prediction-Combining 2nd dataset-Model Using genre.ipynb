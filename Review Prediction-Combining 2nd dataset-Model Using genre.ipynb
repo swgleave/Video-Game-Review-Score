{
 "cells": [
  {
   "cell_type": "markdown",
   "metadata": {},
   "source": [
    "Things to try to increase performance: \n",
    "-even more data\n",
    "-separate models for different genres\n",
    "-topic model\n",
    "-ridge regression, lasso regression\n",
    "-bi grams, n grams\n",
    "-sentiment analysis\n",
    "-Look for transformations opps, etc\n",
    "-model only using genre"
   ]
  },
  {
   "cell_type": "code",
   "execution_count": 1,
   "metadata": {},
   "outputs": [],
   "source": [
    "import pandas as pd\n",
    "from textblob import TextBlob\n",
    "from textblob import Word\n",
    "from gensim import corpora, models, similarities\n",
    "import os\n",
    "import tempfile\n",
    "import gensim\n",
    "from sklearn.linear_model import LinearRegression\n",
    "import math\n",
    "import numpy as np\n",
    "import xgboost as xgb\n",
    "from sklearn.linear_model import Lasso\n",
    "from sklearn.linear_model import LassoCV\n",
    "from bayes_opt import BayesianOptimization\n",
    "from sklearn.metrics import mean_squared_error\n",
    "\n",
    "TEMP_FOLDER = tempfile.gettempdir()"
   ]
  },
  {
   "cell_type": "code",
   "execution_count": 2,
   "metadata": {},
   "outputs": [],
   "source": [
    "links = pd.read_csv('/Users/scottgleave/Downloads/DataMiningCourse/finalprojectdata/links2.csv', header = None)\n",
    "text = pd.read_csv('/Users/scottgleave/Downloads/DataMiningCourse/finalprojectdata/reviewtext.csv', header = None)"
   ]
  },
  {
   "cell_type": "code",
   "execution_count": 3,
   "metadata": {},
   "outputs": [],
   "source": [
    "links2 = pd.read_csv('/Users/scottgleave/Downloads/DataMiningCourse/finalprojectdata/links3.csv', header = None)\n",
    "text2 = pd.read_csv('/Users/scottgleave/Downloads/DataMiningCourse/finalprojectdata/reviewtext2.csv', header = None)"
   ]
  },
  {
   "cell_type": "code",
   "execution_count": 4,
   "metadata": {},
   "outputs": [],
   "source": [
    "#prep 2nd set of data, which has lots of links that didn't work\n",
    "\n",
    "links2[5] = text2\n",
    "links2.drop_duplicates([5], inplace = True)\n",
    "links2 = links2[links2[5] != '[]']\n",
    "links2 = links2[links2[5] != '[]']\n",
    "links2.dropna(subset = [5],inplace = True)"
   ]
  },
  {
   "cell_type": "code",
   "execution_count": 5,
   "metadata": {},
   "outputs": [],
   "source": [
    "links[5] = text"
   ]
  },
  {
   "cell_type": "code",
   "execution_count": 6,
   "metadata": {},
   "outputs": [],
   "source": [
    "links.drop_duplicates([5], inplace = True)\n"
   ]
  },
  {
   "cell_type": "code",
   "execution_count": 7,
   "metadata": {},
   "outputs": [],
   "source": [
    "links = pd.concat([links,links2], axis = 0)\n",
    "links = links.reset_index()\n",
    "links = links.drop('index', axis = 1)"
   ]
  },
  {
   "cell_type": "code",
   "execution_count": 8,
   "metadata": {},
   "outputs": [
    {
     "data": {
      "text/plain": [
       "(2903, 6)"
      ]
     },
     "execution_count": 8,
     "metadata": {},
     "output_type": "execute_result"
    }
   ],
   "source": [
    "links.shape"
   ]
  },
  {
   "cell_type": "code",
   "execution_count": 9,
   "metadata": {},
   "outputs": [
    {
     "data": {
      "text/plain": [
       "(2503, 6)"
      ]
     },
     "execution_count": 9,
     "metadata": {},
     "output_type": "execute_result"
    }
   ],
   "source": [
    "pd.set_option('display.max_rows', 500)\n",
    "grouped = links.groupby([3]).count()\n",
    "grouped.sort_values(by=[2],ascending = False, inplace = True)\n",
    "cols = grouped[:14].index.get_level_values(0)\n",
    "colslist = cols.tolist()\n",
    "selected = links[links[3].isin(colslist)]\n",
    "selected.shape"
   ]
  },
  {
   "cell_type": "code",
   "execution_count": 10,
   "metadata": {},
   "outputs": [
    {
     "data": {
      "text/html": [
       "<div>\n",
       "<style scoped>\n",
       "    .dataframe tbody tr th:only-of-type {\n",
       "        vertical-align: middle;\n",
       "    }\n",
       "\n",
       "    .dataframe tbody tr th {\n",
       "        vertical-align: top;\n",
       "    }\n",
       "\n",
       "    .dataframe thead th {\n",
       "        text-align: right;\n",
       "    }\n",
       "</style>\n",
       "<table border=\"1\" class=\"dataframe\">\n",
       "  <thead>\n",
       "    <tr style=\"text-align: right;\">\n",
       "      <th></th>\n",
       "      <th>0</th>\n",
       "      <th>1</th>\n",
       "      <th>2</th>\n",
       "      <th>3</th>\n",
       "      <th>4</th>\n",
       "      <th>5</th>\n",
       "    </tr>\n",
       "  </thead>\n",
       "  <tbody>\n",
       "    <tr>\n",
       "      <th>0</th>\n",
       "      <td>https://www.ign.com/articles/2018/11/17/battle...</td>\n",
       "      <td>7.5</td>\n",
       "      <td>PC</td>\n",
       "      <td>Shooter</td>\n",
       "      <td>November 17, 2018</td>\n",
       "      <td>[\"With all of the development muscle behind EA...</td>\n",
       "    </tr>\n",
       "    <tr>\n",
       "      <th>1</th>\n",
       "      <td>https://www.ign.com/articles/2018/11/15/sid-me...</td>\n",
       "      <td>9.4</td>\n",
       "      <td>Nintendo Switch</td>\n",
       "      <td>Strategy</td>\n",
       "      <td>November 15, 2018</td>\n",
       "      <td>['When I first reviewed Civilization VI back i...</td>\n",
       "    </tr>\n",
       "    <tr>\n",
       "      <th>2</th>\n",
       "      <td>https://www.ign.com/articles/2018/11/14/warfra...</td>\n",
       "      <td>8.6</td>\n",
       "      <td>PC</td>\n",
       "      <td>Shooter</td>\n",
       "      <td>November 15, 2018</td>\n",
       "      <td>[' ', 'There aren’t many games that make me fe...</td>\n",
       "    </tr>\n",
       "    <tr>\n",
       "      <th>3</th>\n",
       "      <td>https://www.ign.com/articles/2018/11/14/overki...</td>\n",
       "      <td>5.3</td>\n",
       "      <td>PC</td>\n",
       "      <td>Action</td>\n",
       "      <td>November 14, 2018</td>\n",
       "      <td>['Overkill’s ', ' is an earnest attempt to del...</td>\n",
       "    </tr>\n",
       "    <tr>\n",
       "      <th>4</th>\n",
       "      <td>https://www.ign.com/articles/2018/11/16/pokemo...</td>\n",
       "      <td>8.3</td>\n",
       "      <td>Nintendo Switch</td>\n",
       "      <td>RPG</td>\n",
       "      <td>November 12, 2018</td>\n",
       "      <td>[\"It's often with rose-colored glasses that I ...</td>\n",
       "    </tr>\n",
       "  </tbody>\n",
       "</table>\n",
       "</div>"
      ],
      "text/plain": [
       "                                                   0    1                2  \\\n",
       "0  https://www.ign.com/articles/2018/11/17/battle...  7.5               PC   \n",
       "1  https://www.ign.com/articles/2018/11/15/sid-me...  9.4  Nintendo Switch   \n",
       "2  https://www.ign.com/articles/2018/11/14/warfra...  8.6               PC   \n",
       "3  https://www.ign.com/articles/2018/11/14/overki...  5.3               PC   \n",
       "4  https://www.ign.com/articles/2018/11/16/pokemo...  8.3  Nintendo Switch   \n",
       "\n",
       "          3                  4  \\\n",
       "0   Shooter  November 17, 2018   \n",
       "1  Strategy  November 15, 2018   \n",
       "2   Shooter  November 15, 2018   \n",
       "3    Action  November 14, 2018   \n",
       "4       RPG  November 12, 2018   \n",
       "\n",
       "                                                   5  \n",
       "0  [\"With all of the development muscle behind EA...  \n",
       "1  ['When I first reviewed Civilization VI back i...  \n",
       "2  [' ', 'There aren’t many games that make me fe...  \n",
       "3  ['Overkill’s ', ' is an earnest attempt to del...  \n",
       "4  [\"It's often with rose-colored glasses that I ...  "
      ]
     },
     "execution_count": 10,
     "metadata": {},
     "output_type": "execute_result"
    }
   ],
   "source": [
    "selected.head()"
   ]
  },
  {
   "cell_type": "code",
   "execution_count": 11,
   "metadata": {},
   "outputs": [
    {
     "data": {
      "text/html": [
       "<div>\n",
       "<style scoped>\n",
       "    .dataframe tbody tr th:only-of-type {\n",
       "        vertical-align: middle;\n",
       "    }\n",
       "\n",
       "    .dataframe tbody tr th {\n",
       "        vertical-align: top;\n",
       "    }\n",
       "\n",
       "    .dataframe thead th {\n",
       "        text-align: right;\n",
       "    }\n",
       "</style>\n",
       "<table border=\"1\" class=\"dataframe\">\n",
       "  <thead>\n",
       "    <tr style=\"text-align: right;\">\n",
       "      <th></th>\n",
       "      <th>1</th>\n",
       "    </tr>\n",
       "    <tr>\n",
       "      <th>3</th>\n",
       "      <th></th>\n",
       "    </tr>\n",
       "  </thead>\n",
       "  <tbody>\n",
       "    <tr>\n",
       "      <th>Action</th>\n",
       "      <td>6.977104</td>\n",
       "    </tr>\n",
       "    <tr>\n",
       "      <th>Action, Adventure</th>\n",
       "      <td>7.644262</td>\n",
       "    </tr>\n",
       "    <tr>\n",
       "      <th>Action, RPG</th>\n",
       "      <td>7.656790</td>\n",
       "    </tr>\n",
       "    <tr>\n",
       "      <th>Adventure</th>\n",
       "      <td>7.359877</td>\n",
       "    </tr>\n",
       "    <tr>\n",
       "      <th>Fighting</th>\n",
       "      <td>7.556627</td>\n",
       "    </tr>\n",
       "    <tr>\n",
       "      <th>Hardware</th>\n",
       "      <td>8.450000</td>\n",
       "    </tr>\n",
       "    <tr>\n",
       "      <th>Platformer</th>\n",
       "      <td>7.629341</td>\n",
       "    </tr>\n",
       "    <tr>\n",
       "      <th>Puzzle</th>\n",
       "      <td>7.615909</td>\n",
       "    </tr>\n",
       "    <tr>\n",
       "      <th>RPG</th>\n",
       "      <td>7.545263</td>\n",
       "    </tr>\n",
       "    <tr>\n",
       "      <th>Racing</th>\n",
       "      <td>7.325974</td>\n",
       "    </tr>\n",
       "    <tr>\n",
       "      <th>Shooter</th>\n",
       "      <td>7.162222</td>\n",
       "    </tr>\n",
       "    <tr>\n",
       "      <th>Simulation</th>\n",
       "      <td>6.900000</td>\n",
       "    </tr>\n",
       "    <tr>\n",
       "      <th>Sports</th>\n",
       "      <td>7.328777</td>\n",
       "    </tr>\n",
       "    <tr>\n",
       "      <th>Strategy</th>\n",
       "      <td>7.479661</td>\n",
       "    </tr>\n",
       "  </tbody>\n",
       "</table>\n",
       "</div>"
      ],
      "text/plain": [
       "                          1\n",
       "3                          \n",
       "Action             6.977104\n",
       "Action, Adventure  7.644262\n",
       "Action, RPG        7.656790\n",
       "Adventure          7.359877\n",
       "Fighting           7.556627\n",
       "Hardware           8.450000\n",
       "Platformer         7.629341\n",
       "Puzzle             7.615909\n",
       "RPG                7.545263\n",
       "Racing             7.325974\n",
       "Shooter            7.162222\n",
       "Simulation         6.900000\n",
       "Sports             7.328777\n",
       "Strategy           7.479661"
      ]
     },
     "execution_count": 11,
     "metadata": {},
     "output_type": "execute_result"
    }
   ],
   "source": [
    "selected.groupby([3]).mean()"
   ]
  },
  {
   "cell_type": "code",
   "execution_count": null,
   "metadata": {},
   "outputs": [],
   "source": []
  },
  {
   "cell_type": "code",
   "execution_count": 12,
   "metadata": {},
   "outputs": [
    {
     "data": {
      "text/plain": [
       "0    0\n",
       "1    0\n",
       "2    0\n",
       "3    0\n",
       "4    0\n",
       "5    0\n",
       "dtype: int64"
      ]
     },
     "execution_count": 12,
     "metadata": {},
     "output_type": "execute_result"
    }
   ],
   "source": [
    "#any nan?\n",
    "selected.isna().sum()\n"
   ]
  },
  {
   "cell_type": "code",
   "execution_count": 13,
   "metadata": {},
   "outputs": [
    {
     "name": "stderr",
     "output_type": "stream",
     "text": [
      "/anaconda3/lib/python3.6/site-packages/pandas/core/frame.py:3694: SettingWithCopyWarning: \n",
      "A value is trying to be set on a copy of a slice from a DataFrame\n",
      "\n",
      "See the caveats in the documentation: http://pandas.pydata.org/pandas-docs/stable/indexing.html#indexing-view-versus-copy\n",
      "  errors=errors)\n"
     ]
    },
    {
     "data": {
      "text/plain": [
       "(2503, 3)"
      ]
     },
     "execution_count": 13,
     "metadata": {},
     "output_type": "execute_result"
    }
   ],
   "source": [
    "selected.drop([0,5,4], axis = 1, inplace = True)\n",
    "selected.shape"
   ]
  },
  {
   "cell_type": "code",
   "execution_count": 14,
   "metadata": {},
   "outputs": [
    {
     "data": {
      "text/plain": [
       "(2503, 39)"
      ]
     },
     "execution_count": 14,
     "metadata": {},
     "output_type": "execute_result"
    }
   ],
   "source": [
    "selected = pd.get_dummies(selected)\n",
    "selected.shape"
   ]
  },
  {
   "cell_type": "code",
   "execution_count": 15,
   "metadata": {},
   "outputs": [
    {
     "name": "stderr",
     "output_type": "stream",
     "text": [
      "/anaconda3/lib/python3.6/site-packages/pandas/core/frame.py:3694: SettingWithCopyWarning: \n",
      "A value is trying to be set on a copy of a slice from a DataFrame\n",
      "\n",
      "See the caveats in the documentation: http://pandas.pydata.org/pandas-docs/stable/indexing.html#indexing-view-versus-copy\n",
      "  errors=errors)\n"
     ]
    }
   ],
   "source": [
    "#train val split\n",
    "\n",
    "trainval = selected.sample(600)\n",
    "train = selected.loc[~selected.index.isin(trainval.index), :]\n",
    "y = train[1]\n",
    "valy = trainval[1]\n",
    "trainval.drop([1], axis = 1, inplace = True)\n",
    "train.drop([1], axis = 1, inplace = True)"
   ]
  },
  {
   "cell_type": "code",
   "execution_count": null,
   "metadata": {},
   "outputs": [],
   "source": []
  },
  {
   "cell_type": "code",
   "execution_count": null,
   "metadata": {},
   "outputs": [],
   "source": []
  },
  {
   "cell_type": "code",
   "execution_count": null,
   "metadata": {},
   "outputs": [],
   "source": []
  },
  {
   "cell_type": "code",
   "execution_count": null,
   "metadata": {},
   "outputs": [],
   "source": []
  },
  {
   "cell_type": "code",
   "execution_count": null,
   "metadata": {},
   "outputs": [],
   "source": []
  },
  {
   "cell_type": "code",
   "execution_count": null,
   "metadata": {},
   "outputs": [],
   "source": []
  },
  {
   "cell_type": "markdown",
   "metadata": {},
   "source": [
    "## XGBoost"
   ]
  },
  {
   "cell_type": "code",
   "execution_count": null,
   "metadata": {},
   "outputs": [],
   "source": [
    "#bayesian opt\n",
    "yarray = y.values\n",
    "dtrain = xgb.DMatrix(all_topics_numpy, label=yarray)\n",
    "def xgb_evaluate(max_depth, gamma, colsample_bytree):\n",
    "    params = {'eval_metric': 'rmse',\n",
    "              'max_depth': int(max_depth),\n",
    "              'subsample': 0.8,\n",
    "              'eta': 0.1,\n",
    "              'gamma': gamma,\n",
    "              'colsample_bytree': colsample_bytree}\n",
    "    # Used around 1000 boosting rounds in the full model\n",
    "    cv_result = xgb.cv(params, dtrain, num_boost_round=100, nfold=3)    \n",
    "    \n",
    "    # Bayesian optimization only knows how to maximize, not minimize, so return the negative RMSE\n",
    "    return -1.0 * cv_result['test-rmse-mean'].iloc[-1]\n",
    "\n",
    "xgb_bo = BayesianOptimization(xgb_evaluate, {'max_depth': (3, 7),\n",
    "                                            'gamma': (0, 1),\n",
    "                                            'colsample_bytree': (0.3, 0.9)})\n",
    "\n",
    "xgb_bo.maximize(init_points=3, n_iter=5, acq='ei')\n",
    "\n"
   ]
  },
  {
   "cell_type": "code",
   "execution_count": 357,
   "metadata": {},
   "outputs": [
    {
     "data": {
      "text/plain": [
       "{'target': -1.1006746666666667,\n",
       " 'params': {'colsample_bytree': 0.8976729774092942,\n",
       "  'gamma': 0.9971962663965198,\n",
       "  'max_depth': 4.321612175930944}}"
      ]
     },
     "execution_count": 357,
     "metadata": {},
     "output_type": "execute_result"
    }
   ],
   "source": [
    "param = xgb_bo.max\n",
    "param"
   ]
  },
  {
   "cell_type": "code",
   "execution_count": 99,
   "metadata": {},
   "outputs": [
    {
     "data": {
      "text/plain": [
       "1.3891798123147852"
      ]
     },
     "execution_count": 99,
     "metadata": {},
     "output_type": "execute_result"
    }
   ],
   "source": [
    "yarray = y.values\n",
    "xgbreg = xgb.XGBRegressor()\n",
    "xgbreg.fit(train,yarray)\n",
    "\n",
    "predictions2 = xgbreg.predict(trainval)\n",
    "predictionsdf2 = pd.DataFrame(predictions2)\n",
    "valy = valy.reset_index()\n",
    "valy.drop(['index'], axis = 1, inplace = True)\n",
    "predictionsdf2['true'] = valy\n",
    "predictionsdf2['diff'] = predictionsdf2['true'] - predictionsdf2[0]\n",
    "predictionsdf2['diff'] = predictionsdf2['true'] - predictionsdf2[0]\n",
    "predictionsdf2['diff'] = predictionsdf2['diff']**2\n",
    "diff = predictionsdf2['diff'].values\n",
    "diff = np.mean(diff)\n",
    "diff = math.sqrt(diff)\n",
    "diff"
   ]
  },
  {
   "cell_type": "markdown",
   "metadata": {},
   "source": [
    "## Lasso Regression"
   ]
  },
  {
   "cell_type": "code",
   "execution_count": null,
   "metadata": {},
   "outputs": [],
   "source": [
    "#find best alpha for lasso regression\n",
    "\n",
    "alphas = [1e-15, 1e-10, 1e-8, 1e-5,1e-4, 1e-3,1e-2, 1, 5, 10]\n",
    "alphas2 = [1e-5,1.5e-5,1e-4, 1.5e-4,1e-3]\n",
    "def runlasso(alpha):\n",
    "    global valy\n",
    "    yarray = y.values\n",
    "    lasso = Lasso(alpha = alpha, max_iter=1e5)\n",
    "    lasso.fit(all_topics_numpy,yarray)\n",
    "\n",
    "    predictions3 = lasso.predict(all_topics_numpytest)\n",
    "    predictionsdf3 = pd.DataFrame(predictions3)\n",
    "    valy = valy.reset_index()\n",
    "    valy.drop(['index'], axis = 1, inplace = True)\n",
    "    predictionsdf3['true'] = valy\n",
    "    predictionsdf3['diff'] = predictionsdf3['true'] - predictionsdf3[0]\n",
    "    predictionsdf3['diff'] = predictionsdf3['true'] - predictionsdf3[0]\n",
    "    predictionsdf3['diff'] = predictionsdf3['diff']**2\n",
    "    diff = predictionsdf3['diff'].values\n",
    "    diff = np.mean(diff)\n",
    "    diff = math.sqrt(diff)\n",
    "    return diff\n",
    "    \n",
    "test = [runlasso(x) for x in alphas2]\n",
    "print(test)\n",
    "    \n",
    "    \n",
    "    "
   ]
  },
  {
   "cell_type": "code",
   "execution_count": null,
   "metadata": {},
   "outputs": [],
   "source": [
    "yarray = y.values\n",
    "lasso = Lasso(alpha = 1.5e-4, max_iter=1e5)\n",
    "lasso.fit(all_topics_numpy,yarray)\n",
    "\n",
    "predictions3 = lasso.predict(all_topics_numpytest)\n",
    "predictionsdf3 = pd.DataFrame(predictions3)\n",
    "valy = valy.reset_index()\n",
    "valy.drop(['index'], axis = 1, inplace = True)\n",
    "predictionsdf3['true'] = valy\n",
    "predictionsdf3['diff'] = predictionsdf3['true'] - predictionsdf3[0]\n",
    "predictionsdf3['diff'] = predictionsdf3['true'] - predictionsdf3[0]\n",
    "predictionsdf3['diff'] = predictionsdf3['diff']**2\n",
    "diff = predictionsdf3['diff'].values\n",
    "diff = np.mean(diff)\n",
    "diff = math.sqrt(diff)\n",
    "diff\n"
   ]
  },
  {
   "cell_type": "markdown",
   "metadata": {},
   "source": [
    "## OLS"
   ]
  },
  {
   "cell_type": "code",
   "execution_count": 94,
   "metadata": {},
   "outputs": [
    {
     "data": {
      "text/plain": [
       "10.0"
      ]
     },
     "execution_count": 94,
     "metadata": {},
     "output_type": "execute_result"
    }
   ],
   "source": []
  },
  {
   "cell_type": "code",
   "execution_count": 77,
   "metadata": {},
   "outputs": [],
   "source": [
    "yarray = y.values\n",
    "lm = LinearRegression()\n",
    "lm.fit(train,yarray)\n",
    "predictions = lm.predict(trainval)\n",
    "predictionsdf = pd.DataFrame(predictions)"
   ]
  },
  {
   "cell_type": "code",
   "execution_count": 82,
   "metadata": {},
   "outputs": [
    {
     "data": {
      "text/html": [
       "<div>\n",
       "<style scoped>\n",
       "    .dataframe tbody tr th:only-of-type {\n",
       "        vertical-align: middle;\n",
       "    }\n",
       "\n",
       "    .dataframe tbody tr th {\n",
       "        vertical-align: top;\n",
       "    }\n",
       "\n",
       "    .dataframe thead th {\n",
       "        text-align: right;\n",
       "    }\n",
       "</style>\n",
       "<table border=\"1\" class=\"dataframe\">\n",
       "  <thead>\n",
       "    <tr style=\"text-align: right;\">\n",
       "      <th></th>\n",
       "      <th>0</th>\n",
       "    </tr>\n",
       "  </thead>\n",
       "  <tbody>\n",
       "    <tr>\n",
       "      <th>count</th>\n",
       "      <td>6.000000e+02</td>\n",
       "    </tr>\n",
       "    <tr>\n",
       "      <th>mean</th>\n",
       "      <td>9.236435e+11</td>\n",
       "    </tr>\n",
       "    <tr>\n",
       "      <th>std</th>\n",
       "      <td>1.420428e+13</td>\n",
       "    </tr>\n",
       "    <tr>\n",
       "      <th>min</th>\n",
       "      <td>5.843750e+00</td>\n",
       "    </tr>\n",
       "    <tr>\n",
       "      <th>25%</th>\n",
       "      <td>7.093750e+00</td>\n",
       "    </tr>\n",
       "    <tr>\n",
       "      <th>50%</th>\n",
       "      <td>7.359375e+00</td>\n",
       "    </tr>\n",
       "    <tr>\n",
       "      <th>75%</th>\n",
       "      <td>7.625000e+00</td>\n",
       "    </tr>\n",
       "    <tr>\n",
       "      <th>max</th>\n",
       "      <td>2.409915e+14</td>\n",
       "    </tr>\n",
       "  </tbody>\n",
       "</table>\n",
       "</div>"
      ],
      "text/plain": [
       "                  0\n",
       "count  6.000000e+02\n",
       "mean   9.236435e+11\n",
       "std    1.420428e+13\n",
       "min    5.843750e+00\n",
       "25%    7.093750e+00\n",
       "50%    7.359375e+00\n",
       "75%    7.625000e+00\n",
       "max    2.409915e+14"
      ]
     },
     "execution_count": 82,
     "metadata": {},
     "output_type": "execute_result"
    }
   ],
   "source": [
    "predictionsdf.describe()"
   ]
  },
  {
   "cell_type": "code",
   "execution_count": null,
   "metadata": {},
   "outputs": [],
   "source": [
    "valy = valy.reset_index()\n",
    "valy"
   ]
  },
  {
   "cell_type": "code",
   "execution_count": null,
   "metadata": {},
   "outputs": [],
   "source": [
    "valy.drop(['index'], axis = 1, inplace = True)\n",
    "valy"
   ]
  },
  {
   "cell_type": "code",
   "execution_count": null,
   "metadata": {},
   "outputs": [],
   "source": [
    "predictionsdf['true'] = valy\n",
    "predictionsdf"
   ]
  },
  {
   "cell_type": "code",
   "execution_count": null,
   "metadata": {},
   "outputs": [],
   "source": [
    "predictionsdf = predictionsdf.sort_values(by=[0], ascending = False)\n",
    "predictionsdf = predictionsdf.iloc[3:]\n",
    "predictionsdf"
   ]
  },
  {
   "cell_type": "code",
   "execution_count": null,
   "metadata": {},
   "outputs": [],
   "source": [
    "predictionsdf['diff'] = predictionsdf['true'] - predictionsdf[0]\n",
    "predictionsdf"
   ]
  },
  {
   "cell_type": "code",
   "execution_count": 333,
   "metadata": {},
   "outputs": [],
   "source": [
    "#let's also plot histogram of scores\n",
    "\n",
    "\n"
   ]
  },
  {
   "cell_type": "code",
   "execution_count": 334,
   "metadata": {},
   "outputs": [],
   "source": [
    "#residual plot here\n",
    "\n",
    "\n"
   ]
  },
  {
   "cell_type": "code",
   "execution_count": 97,
   "metadata": {},
   "outputs": [
    {
     "data": {
      "text/plain": [
       "1.398608940028378"
      ]
     },
     "execution_count": 97,
     "metadata": {},
     "output_type": "execute_result"
    }
   ],
   "source": [
    "#RMSE\n",
    "predictionsdf['diff'] = predictionsdf['true'] - predictionsdf[0]\n",
    "predictionsdf['diff'] = predictionsdf['diff']**2\n",
    "diff = predictionsdf['diff'].values\n",
    "diff = np.mean(diff)\n",
    "diff = math.sqrt(diff)\n",
    "diff\n",
    "\n",
    "#diff = predictionsdf['diff'].values.tolist()\n",
    "#diff = math.sqrt(np.mean(diff**2))\n",
    "#diff"
   ]
  },
  {
   "cell_type": "code",
   "execution_count": null,
   "metadata": {},
   "outputs": [],
   "source": [
    "arravg = np.mean(yarray)\n",
    "predictionsdf['avg'] = arravg\n",
    "predictionsdf['avgdiff'] = predictionsdf['avg'] - predictionsdf['true']\n",
    "predictionsdf['avgdiff'] = predictionsdf['avgdiff']**2\n",
    "avgdiff = predictionsdf['avgdiff'].values\n",
    "avgdiff = np.mean(avgdiff)\n",
    "avgdiff = math.sqrt(avgdiff)\n",
    "avgdiff"
   ]
  },
  {
   "cell_type": "code",
   "execution_count": null,
   "metadata": {},
   "outputs": [],
   "source": []
  }
 ],
 "metadata": {
  "kernelspec": {
   "display_name": "Python 3",
   "language": "python",
   "name": "python3"
  },
  "language_info": {
   "codemirror_mode": {
    "name": "ipython",
    "version": 3
   },
   "file_extension": ".py",
   "mimetype": "text/x-python",
   "name": "python",
   "nbconvert_exporter": "python",
   "pygments_lexer": "ipython3",
   "version": "3.6.5"
  }
 },
 "nbformat": 4,
 "nbformat_minor": 2
}
